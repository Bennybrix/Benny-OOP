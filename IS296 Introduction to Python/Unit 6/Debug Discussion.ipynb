{
 "cells": [
  {
   "cell_type": "code",
   "execution_count": null,
   "id": "5e729c59",
   "metadata": {},
   "outputs": [],
   "source": [
    "# Method for check if the results of a division of two numbers are greather than or equal to a minimum result\n",
    "# a - numberator\n",
    "# b - denominator\n",
    "# mun_result - is the smallest acceptable number\n",
    "def divide_and_check(a, b, min_result):\n",
    "    if b < 0:\n",
    "        return 0\n",
    "    result = a / b\n",
    "    if result < min_result:\n",
    "        return 0\n",
    "    else:\n",
    "        return result\n",
    "\n",
    "numerator = 10\n",
    "denominator = 0\n",
    "min_result = 2\n",
    "print(divide_and_check(numerator, denominator, min_result))"
   ]
  },
  {
   "cell_type": "code",
   "execution_count": null,
   "id": "c1b6ba09",
   "metadata": {},
   "outputs": [],
   "source": []
  }
 ],
 "metadata": {
  "kernelspec": {
   "display_name": "Python 3 (ipykernel)",
   "language": "python",
   "name": "python3"
  },
  "language_info": {
   "codemirror_mode": {
    "name": "ipython",
    "version": 3
   },
   "file_extension": ".py",
   "mimetype": "text/x-python",
   "name": "python",
   "nbconvert_exporter": "python",
   "pygments_lexer": "ipython3",
   "version": "3.7.1"
  }
 },
 "nbformat": 4,
 "nbformat_minor": 5
}
