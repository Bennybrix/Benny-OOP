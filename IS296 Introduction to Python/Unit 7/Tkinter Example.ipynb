{
 "cells": [
  {
   "cell_type": "code",
   "execution_count": 1,
   "id": "1ce9618d",
   "metadata": {},
   "outputs": [],
   "source": [
    "import tkinter as tk"
   ]
  },
  {
   "cell_type": "markdown",
   "id": "84fe5608",
   "metadata": {},
   "source": [
    "### Basic Custome Label Example"
   ]
  },
  {
   "cell_type": "code",
   "execution_count": 2,
   "id": "574bd0b5",
   "metadata": {},
   "outputs": [],
   "source": [
    "# Basic review and example of adding a single widget \n",
    "welcome_text = \"Custom Label Example\"\n",
    "window1 = tk.Tk()\n",
    "first_widget = tk.Label(text=welcome_text, \n",
    "                       fg =\"red\",\n",
    "                       bg = \"purple\",\n",
    "                       width = 25,\n",
    "                       height = 5)\n",
    "first_widget.pack()\n",
    "window1.mainloop()"
   ]
  },
  {
   "cell_type": "markdown",
   "id": "68e38f31",
   "metadata": {},
   "source": [
    "### Basic Buttom Example "
   ]
  },
  {
   "cell_type": "code",
   "execution_count": 3,
   "id": "171c2403",
   "metadata": {},
   "outputs": [],
   "source": [
    "bt1_text = \"Im a Button\"\n",
    "window2 = tk.Tk()\n",
    "button1 = tk.Button(text=bt1_text,\n",
    "                    fg = \"green\",\n",
    "                    bg = \"blue\",\n",
    "                    width = 15,\n",
    "                    height = 5)\n",
    "button1.pack()\n",
    "window2.mainloop()"
   ]
  },
  {
   "cell_type": "markdown",
   "id": "f11d9a6f",
   "metadata": {},
   "source": [
    "### Basic Entry Example"
   ]
  },
  {
   "cell_type": "code",
   "execution_count": 4,
   "id": "b1b8538a",
   "metadata": {},
   "outputs": [],
   "source": [
    "lab_text = \"Enter Your Name\"\n",
    "window3 = tk.Tk()\n",
    "label = tk.Label(text = lab_text)\n",
    "user_name = tk.Entry(fg=\"red\", \n",
    "                     bg=\"blue\",\n",
    "                    width = 25)\n",
    "name_enter = tk.Entry()\n",
    "name_enter.insert(0, \"Your Name Here\")\n",
    "label.pack()\n",
    "user_name.pack()\n",
    "name_enter.pack()\n",
    "window3.mainloop()"
   ]
  },
  {
   "cell_type": "markdown",
   "id": "b9473955",
   "metadata": {},
   "source": [
    "### Basic Text Example"
   ]
  },
  {
   "cell_type": "code",
   "execution_count": 5,
   "id": "cecfca42",
   "metadata": {},
   "outputs": [],
   "source": [
    "window4 = tk.Tk()\n",
    "label = tk.Label(text = \"Enter a story\")\n",
    "text_box = tk.Text()\n",
    "text_box.insert(tk.END, \"It was a Tuesday or maybe Wednesday,\")\n",
    "text_box.pack()\n",
    "window4.mainloop()"
   ]
  },
  {
   "cell_type": "markdown",
   "id": "5ff6a65d",
   "metadata": {},
   "source": [
    "### Basic Frame Example "
   ]
  },
  {
   "cell_type": "code",
   "execution_count": 6,
   "id": "be00eb69",
   "metadata": {},
   "outputs": [],
   "source": [
    "window5 = tk.Tk()\n",
    "frame1 = tk.Frame()\n",
    "frame2 = tk.Frame()\n",
    "# Frame 1 elements\n",
    "lb1 = tk.Label(master=frame1, text =\"Frame 1\")\n",
    "ent1 = tk.Entry(master=frame1, bg=\"blue\")\n",
    "lb1.pack()\n",
    "ent1.pack()\n",
    "\n",
    "# Frame 2 elements\n",
    "lb2 = tk.Label(master=frame2, text= \"Frame 2\")\n",
    "ent2 = tk.Entry(master=frame2, bg = \"red\")\n",
    "lb2.pack()\n",
    "ent2.pack()\n",
    "\n",
    "# Now pack each frame\n",
    "frame1.pack()\n",
    "frame2.pack()\n",
    "window5.mainloop()"
   ]
  },
  {
   "cell_type": "code",
   "execution_count": null,
   "id": "22856cdf",
   "metadata": {},
   "outputs": [],
   "source": []
  }
 ],
 "metadata": {
  "kernelspec": {
   "display_name": "Python 3 (ipykernel)",
   "language": "python",
   "name": "python3"
  },
  "language_info": {
   "codemirror_mode": {
    "name": "ipython",
    "version": 3
   },
   "file_extension": ".py",
   "mimetype": "text/x-python",
   "name": "python",
   "nbconvert_exporter": "python",
   "pygments_lexer": "ipython3",
   "version": "3.7.1"
  }
 },
 "nbformat": 4,
 "nbformat_minor": 5
}
