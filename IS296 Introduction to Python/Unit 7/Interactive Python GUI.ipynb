{
 "cells": [
  {
   "cell_type": "code",
   "execution_count": 1,
   "id": "1292d7e2",
   "metadata": {},
   "outputs": [],
   "source": [
    "import tkinter as tk"
   ]
  },
  {
   "cell_type": "code",
   "execution_count": 2,
   "id": "f704484e",
   "metadata": {},
   "outputs": [],
   "source": [
    "window = tk.Tk()\n",
    "\n",
    "# Methods for Event Handeling\n",
    "def on_click():\n",
    "    my_label[\"text\"] = \"Stop Clicking Me!\"\n",
    "    my_button[\"state\"] = \"disabled\"\n",
    "\n",
    "my_label = tk.Label(text= \"Hi How is it going!\")\n",
    "my_label.pack()\n",
    "\n",
    "my_button = tk.Button(text = \"Click Me!\", command = on_click)\n",
    "my_button.pack()\n",
    "\n",
    "window.mainloop()"
   ]
  },
  {
   "cell_type": "code",
   "execution_count": null,
   "id": "cc11faba",
   "metadata": {},
   "outputs": [],
   "source": []
  }
 ],
 "metadata": {
  "kernelspec": {
   "display_name": "Python 3 (ipykernel)",
   "language": "python",
   "name": "python3"
  },
  "language_info": {
   "codemirror_mode": {
    "name": "ipython",
    "version": 3
   },
   "file_extension": ".py",
   "mimetype": "text/x-python",
   "name": "python",
   "nbconvert_exporter": "python",
   "pygments_lexer": "ipython3",
   "version": "3.7.1"
  }
 },
 "nbformat": 4,
 "nbformat_minor": 5
}
