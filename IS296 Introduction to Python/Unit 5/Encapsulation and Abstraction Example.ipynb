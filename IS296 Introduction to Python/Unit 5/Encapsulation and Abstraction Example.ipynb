{
 "cells": [
  {
   "cell_type": "markdown",
   "id": "a9eeb82e",
   "metadata": {},
   "source": [
    "### Encapsulation Example"
   ]
  },
  {
   "cell_type": "code",
   "execution_count": 1,
   "id": "b7cf58e1",
   "metadata": {},
   "outputs": [],
   "source": [
    "class EncapsulationExample:\n",
    "    def __init__(self):\n",
    "        self.v = 1\n",
    "        \n",
    "    def increase(self):\n",
    "        self.v = self.v + 1\n",
    "    def decrease(self):\n",
    "        self.v = self.v-1\n",
    "    def get_value(self):\n",
    "        return self.v\n",
    "    def set_default(self):\n",
    "        self.v = 1"
   ]
  },
  {
   "cell_type": "code",
   "execution_count": 2,
   "id": "5c654b59",
   "metadata": {},
   "outputs": [
    {
     "name": "stdout",
     "output_type": "stream",
     "text": [
      "1\n",
      "2\n",
      "1\n",
      "4\n",
      "1\n"
     ]
    }
   ],
   "source": [
    "ex = EncapsulationExample()\n",
    "print(ex.get_value())\n",
    "ex.increase()\n",
    "print(ex.get_value())\n",
    "ex.decrease()\n",
    "print(ex.get_value())\n",
    "ex.increase()\n",
    "ex.increase()\n",
    "ex.increase()\n",
    "print(ex.get_value())\n",
    "ex.set_default()\n",
    "print(ex.get_value())"
   ]
  },
  {
   "cell_type": "markdown",
   "id": "2bc6c890",
   "metadata": {},
   "source": [
    "### Abstraction Example "
   ]
  },
  {
   "cell_type": "code",
   "execution_count": 3,
   "id": "96d892ec",
   "metadata": {},
   "outputs": [],
   "source": [
    "from abc import ABC, abstractmethod\n",
    "class my_abstract_class(ABC):\n",
    "    @abstractmethod\n",
    "    def task(self): # No method body so abstract\n",
    "        pass\n",
    "    def normal_method(self):\n",
    "        print(\"Normal method form my_abstract_class\")"
   ]
  },
  {
   "cell_type": "code",
   "execution_count": 4,
   "id": "5df6a85b",
   "metadata": {},
   "outputs": [],
   "source": [
    "class regular_class(my_abstract_class):\n",
    "    def task(self):\n",
    "        print(\"Task from regular class\")"
   ]
  },
  {
   "cell_type": "code",
   "execution_count": 5,
   "id": "1d44d63e",
   "metadata": {},
   "outputs": [
    {
     "name": "stdout",
     "output_type": "stream",
     "text": [
      "Task from regular class\n",
      "Normal method form my_abstract_class\n"
     ]
    }
   ],
   "source": [
    "r = regular_class()\n",
    "r.task()\n",
    "r.normal_method()"
   ]
  },
  {
   "cell_type": "code",
   "execution_count": null,
   "id": "a2a98b5a",
   "metadata": {},
   "outputs": [],
   "source": []
  }
 ],
 "metadata": {
  "kernelspec": {
   "display_name": "Python 3 (ipykernel)",
   "language": "python",
   "name": "python3"
  },
  "language_info": {
   "codemirror_mode": {
    "name": "ipython",
    "version": 3
   },
   "file_extension": ".py",
   "mimetype": "text/x-python",
   "name": "python",
   "nbconvert_exporter": "python",
   "pygments_lexer": "ipython3",
   "version": "3.7.1"
  }
 },
 "nbformat": 4,
 "nbformat_minor": 5
}
