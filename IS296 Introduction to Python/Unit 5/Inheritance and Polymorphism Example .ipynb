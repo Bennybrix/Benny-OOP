{
 "cells": [
  {
   "cell_type": "markdown",
   "id": "9d1fa040",
   "metadata": {},
   "source": [
    "### Inheritance Example "
   ]
  },
  {
   "cell_type": "code",
   "execution_count": 1,
   "id": "0945dec6",
   "metadata": {},
   "outputs": [],
   "source": [
    "class Animal:\n",
    "    def __init__(self, name):\n",
    "        self.name = name\n",
    "    def print_name(self):\n",
    "        print(\"The Animals name is \", self.name)"
   ]
  },
  {
   "cell_type": "code",
   "execution_count": 2,
   "id": "92240ea9",
   "metadata": {},
   "outputs": [
    {
     "name": "stdout",
     "output_type": "stream",
     "text": [
      "The Animals name is  Mouse\n"
     ]
    }
   ],
   "source": [
    "# Not the most useful class but does the job of saying what it is\n",
    "a = Animal(\"Mouse\")\n",
    "a.print_name()"
   ]
  },
  {
   "cell_type": "markdown",
   "id": "75949d0f",
   "metadata": {},
   "source": [
    "### Child Class that extends the parent class"
   ]
  },
  {
   "cell_type": "code",
   "execution_count": 3,
   "id": "e1e4d58a",
   "metadata": {},
   "outputs": [],
   "source": [
    "class Dog(Animal):\n",
    "    def __init__(self,name, breed, noise):\n",
    "        Animal.__init__(self, name)\n",
    "        self.breed = breed\n",
    "        self.noise = noise\n",
    "    def print_breed(self):\n",
    "        print(\"The dogs breed is \", self.breed)\n",
    "    def make_noise(self):\n",
    "        print(self.noise)"
   ]
  },
  {
   "cell_type": "code",
   "execution_count": 4,
   "id": "f9c118a8",
   "metadata": {},
   "outputs": [
    {
     "name": "stdout",
     "output_type": "stream",
     "text": [
      "The Animals name is  Gus\n",
      "The dogs breed is  Collie\n",
      "Bark\n"
     ]
    }
   ],
   "source": [
    "d = Dog(\"Gus\", \"Collie\", \"Bark\")\n",
    "d.print_name()\n",
    "d.print_breed()\n",
    "d.make_noise()"
   ]
  },
  {
   "cell_type": "code",
   "execution_count": 5,
   "id": "b7469ace",
   "metadata": {},
   "outputs": [],
   "source": [
    "class Puppy(Dog):\n",
    "    def __init__(self, name, breed, noise, sleep):\n",
    "        Dog.__init__(self, name,breed, noise)\n",
    "        self.sleep = sleep\n",
    "    def fall_asleep(self):\n",
    "        print(\"Puppy is sleeping for {} hours\".format(self.sleep))"
   ]
  },
  {
   "cell_type": "code",
   "execution_count": 6,
   "id": "9e41a259",
   "metadata": {},
   "outputs": [
    {
     "name": "stdout",
     "output_type": "stream",
     "text": [
      "The Animals name is  Jeffery\n",
      "The dogs breed is  German Shepard\n",
      "Woof\n",
      "Puppy is sleeping for 10 hours\n"
     ]
    }
   ],
   "source": [
    "p = Puppy(\"Jeffery\", \"German Shepard\", \"Woof\", 10)\n",
    "p.print_name()\n",
    "p.print_breed()\n",
    "p.make_noise()\n",
    "p.fall_asleep()"
   ]
  },
  {
   "cell_type": "markdown",
   "id": "94f8b31c",
   "metadata": {},
   "source": [
    "### Polymorphism Example "
   ]
  },
  {
   "cell_type": "code",
   "execution_count": 7,
   "id": "994215b3",
   "metadata": {},
   "outputs": [],
   "source": [
    "class Herd_Dog(Dog):\n",
    "    def __init__(self, name, breed, noise, job):\n",
    "        Dog.__init__(self, name, breed, noise)\n",
    "        self.job = job\n",
    "    def make_noise(self, target):\n",
    "        print(\"Hearding Dog {}, is {} job {}\".format(self.name, self.job, target))\n",
    "        "
   ]
  },
  {
   "cell_type": "code",
   "execution_count": 8,
   "id": "5a5323be",
   "metadata": {},
   "outputs": [
    {
     "name": "stdout",
     "output_type": "stream",
     "text": [
      "Hearding Dog Gus, is Sheepdog job Sheep\n"
     ]
    }
   ],
   "source": [
    "h = Herd_Dog(\"Gus\", \"Collie\", \"Arf\", \"Sheepdog\")\n",
    "h.make_noise(\"Sheep\")"
   ]
  },
  {
   "cell_type": "code",
   "execution_count": null,
   "id": "429191c2",
   "metadata": {},
   "outputs": [],
   "source": []
  }
 ],
 "metadata": {
  "kernelspec": {
   "display_name": "Python 3 (ipykernel)",
   "language": "python",
   "name": "python3"
  },
  "language_info": {
   "codemirror_mode": {
    "name": "ipython",
    "version": 3
   },
   "file_extension": ".py",
   "mimetype": "text/x-python",
   "name": "python",
   "nbconvert_exporter": "python",
   "pygments_lexer": "ipython3",
   "version": "3.7.1"
  }
 },
 "nbformat": 4,
 "nbformat_minor": 5
}
