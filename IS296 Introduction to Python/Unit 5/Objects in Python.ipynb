{
 "cells": [
  {
   "cell_type": "code",
   "execution_count": 1,
   "id": "db647fc0",
   "metadata": {},
   "outputs": [],
   "source": [
    "import time"
   ]
  },
  {
   "cell_type": "code",
   "execution_count": 2,
   "id": "5a022bed",
   "metadata": {},
   "outputs": [],
   "source": [
    "# Basic Class\n",
    "class Person:\n",
    "    # Python Constructor\n",
    "    def __init__(self, name, age, address, job):\n",
    "        self.name = name\n",
    "        self.age = age\n",
    "        self.address = address\n",
    "        self.job = job\n",
    "        print(\"New Person {} has been created\".format(self.name))\n",
    "    \n",
    "    # Instance Methods\n",
    "    def perform_work(self, task):\n",
    "        print(\"{} is working on {}\".format(self.name, task))\n",
    "    \n",
    "    def sleep(self, t):\n",
    "        print(\"Falling sleep for \", str(t))\n",
    "        time.sleep(t)\n",
    "        print(\"Woke up from nap feeling refeashed!\")\n",
    "    \n",
    "    # Static Methods \n",
    "    @staticmethod \n",
    "    def add_numbers(a, b):\n",
    "        c = a + b \n",
    "        return c # can be shorted to return a + b\n",
    "    \n",
    "    @staticmethod\n",
    "    def yell():\n",
    "        print(\"AAAAAAAAAAAAAAAAA!!!!!\")\n",
    "        \n",
    "        \n",
    "    "
   ]
  },
  {
   "cell_type": "markdown",
   "id": "0a7ae9f7",
   "metadata": {},
   "source": [
    "### Create a obect "
   ]
  },
  {
   "cell_type": "code",
   "execution_count": 3,
   "id": "41516fc6",
   "metadata": {},
   "outputs": [
    {
     "name": "stdout",
     "output_type": "stream",
     "text": [
      "New Person Gus has been created\n"
     ]
    }
   ],
   "source": [
    "p = Person(\"Gus\", 15, \"Some Street USA\", \"Guard Dog\")"
   ]
  },
  {
   "cell_type": "markdown",
   "id": "d01d9edc",
   "metadata": {},
   "source": [
    "### Access Variables"
   ]
  },
  {
   "cell_type": "code",
   "execution_count": 4,
   "id": "174e643b",
   "metadata": {},
   "outputs": [
    {
     "name": "stdout",
     "output_type": "stream",
     "text": [
      "Gus\n",
      "15\n",
      "Some Street USA\n",
      "Guard Dog\n"
     ]
    }
   ],
   "source": [
    "print(p.name)\n",
    "print(p.age)\n",
    "print(p.address)\n",
    "print(p.job)"
   ]
  },
  {
   "cell_type": "markdown",
   "id": "29ed0c3b",
   "metadata": {},
   "source": [
    "### Change varialbe values"
   ]
  },
  {
   "cell_type": "code",
   "execution_count": 5,
   "id": "6a4f358d",
   "metadata": {},
   "outputs": [
    {
     "name": "stdout",
     "output_type": "stream",
     "text": [
      "Gus the Great is now 16 with title of King living at The Kingdom of Gus\n"
     ]
    }
   ],
   "source": [
    "p.name = \"Gus the Great\"\n",
    "p.age = 16\n",
    "p.address = \"The Kingdom of Gus\"\n",
    "p.job = \"King\"\n",
    "print(\"{} is now {} with title of {} living at {}\".format(p.name, p.age, p.job, p.address))"
   ]
  },
  {
   "cell_type": "markdown",
   "id": "b6651b8c",
   "metadata": {},
   "source": [
    "### Using Methods "
   ]
  },
  {
   "cell_type": "code",
   "execution_count": 6,
   "id": "8a815df9",
   "metadata": {},
   "outputs": [
    {
     "name": "stdout",
     "output_type": "stream",
     "text": [
      "Gus the Great is working on Jumping\n",
      "Falling sleep for  2.4\n",
      "Woke up from nap feeling refeashed!\n",
      "AAAAAAAAAAAAAAAAA!!!!!\n"
     ]
    }
   ],
   "source": [
    "p.perform_work(\"Jumping\")\n",
    "p.sleep(2.4) # Int will be seconds so dont enter 5000\n",
    "p.add_numbers(4, 10)\n",
    "p.yell()"
   ]
  },
  {
   "cell_type": "code",
   "execution_count": null,
   "id": "a731d518",
   "metadata": {},
   "outputs": [],
   "source": []
  }
 ],
 "metadata": {
  "kernelspec": {
   "display_name": "Python 3 (ipykernel)",
   "language": "python",
   "name": "python3"
  },
  "language_info": {
   "codemirror_mode": {
    "name": "ipython",
    "version": 3
   },
   "file_extension": ".py",
   "mimetype": "text/x-python",
   "name": "python",
   "nbconvert_exporter": "python",
   "pygments_lexer": "ipython3",
   "version": "3.7.1"
  }
 },
 "nbformat": 4,
 "nbformat_minor": 5
}
