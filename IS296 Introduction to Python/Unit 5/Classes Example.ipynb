{
 "cells": [
  {
   "cell_type": "code",
   "execution_count": 1,
   "id": "352a5ea4",
   "metadata": {},
   "outputs": [],
   "source": [
    "# New class declaration \n",
    "class ExampleClass:\n",
    "    # Empty Attributes \n",
    "    name = \"\"\n",
    "    age = 0\n",
    "    def __init__(self, name, age):\n",
    "        self.name = name\n",
    "        self.age = age\n",
    "    # Instance method\n",
    "    def print_info(self):\n",
    "        print(\"{} is {} years old\".format(self.name, self.age))\n",
    "    # Static method\n",
    "    @staticmethod \n",
    "    def print_notice(notice):\n",
    "        print(\"Current Notice: \", notice)"
   ]
  },
  {
   "cell_type": "code",
   "execution_count": 2,
   "id": "4b72edab",
   "metadata": {},
   "outputs": [],
   "source": [
    "ex = ExampleClass(\"Gus\", 15)"
   ]
  },
  {
   "cell_type": "code",
   "execution_count": 3,
   "id": "8226a5f5",
   "metadata": {},
   "outputs": [
    {
     "name": "stdout",
     "output_type": "stream",
     "text": [
      "Current Notice:  Test\n",
      "Gus is 15 years old\n"
     ]
    }
   ],
   "source": [
    "ex.print_notice(\"Test\")\n",
    "ex.print_info()"
   ]
  },
  {
   "cell_type": "code",
   "execution_count": 4,
   "id": "cd314b6b",
   "metadata": {},
   "outputs": [
    {
     "name": "stdout",
     "output_type": "stream",
     "text": [
      "Current Notice:  Happy Birthday Gus\n",
      "Gus is 16 years old\n"
     ]
    }
   ],
   "source": [
    "ex.age= 16\n",
    "ex.print_notice(\"Happy Birthday Gus\")\n",
    "ex.print_info()"
   ]
  },
  {
   "cell_type": "code",
   "execution_count": null,
   "id": "68119e36",
   "metadata": {},
   "outputs": [],
   "source": []
  }
 ],
 "metadata": {
  "kernelspec": {
   "display_name": "Python 3 (ipykernel)",
   "language": "python",
   "name": "python3"
  },
  "language_info": {
   "codemirror_mode": {
    "name": "ipython",
    "version": 3
   },
   "file_extension": ".py",
   "mimetype": "text/x-python",
   "name": "python",
   "nbconvert_exporter": "python",
   "pygments_lexer": "ipython3",
   "version": "3.7.1"
  }
 },
 "nbformat": 4,
 "nbformat_minor": 5
}
